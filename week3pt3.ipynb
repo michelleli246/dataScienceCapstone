{
 "cells": [
  {
   "cell_type": "markdown",
   "metadata": {},
   "source": [
    "# Week 3: Segmenting and Clustering Neighbourhoods"
   ]
  },
  {
   "cell_type": "code",
   "execution_count": 20,
   "metadata": {},
   "outputs": [],
   "source": [
    "import pandas as pd\n",
    "import numpy as np\n",
    "from bs4 import BeautifulSoup\n",
    "\n",
    "import json\n",
    "\n",
    "import requests\n",
    "from geopy.geocoders import Nominatim\n",
    "from pandas.io.json import json_normalize\n",
    "\n",
    "import matplotlib.cm as cm\n",
    "import matplotlib.colors as colors\n",
    "\n",
    "from sklearn.cluster import KMeans\n",
    "\n",
    "import folium"
   ]
  },
  {
   "cell_type": "markdown",
   "metadata": {},
   "source": [
    "Read table from the wikipedia page, and edit as in part 1"
   ]
  },
  {
   "cell_type": "code",
   "execution_count": 21,
   "metadata": {},
   "outputs": [],
   "source": [
    "url = \"https://en.wikipedia.org/wiki/List_of_postal_codes_of_Canada:_M\"\n",
    "df = pd.read_html(url, header = 0)[0]\n",
    "df = df[df.Borough != 'Not assigned']\n",
    "df = df.groupby(['Postcode', 'Borough'])['Neighbourhood'].apply(list).apply(lambda x:', '.join(x)).to_frame().reset_index()\n",
    "for index, row in df.iterrows():\n",
    "    if row['Neighbourhood'] == 'Not assigned':\n",
    "        row['Neighbourhood'] = row['Borough']"
   ]
  },
  {
   "cell_type": "markdown",
   "metadata": {},
   "source": [
    "Add in latitude and longitudes as in part 2"
   ]
  },
  {
   "cell_type": "code",
   "execution_count": 22,
   "metadata": {},
   "outputs": [],
   "source": [
    "longLats = pd.read_csv(\"Geospatial_Coordinates.csv\")\n",
    "longLats = longLats.rename(index=str, columns={'Postal Code': \"Postcode\"})\n",
    "df = pd.merge(df, longLats, on='Postcode', how='inner')"
   ]
  },
  {
   "cell_type": "code",
   "execution_count": 23,
   "metadata": {},
   "outputs": [
    {
     "data": {
      "text/html": [
       "<div>\n",
       "<style scoped>\n",
       "    .dataframe tbody tr th:only-of-type {\n",
       "        vertical-align: middle;\n",
       "    }\n",
       "\n",
       "    .dataframe tbody tr th {\n",
       "        vertical-align: top;\n",
       "    }\n",
       "\n",
       "    .dataframe thead th {\n",
       "        text-align: right;\n",
       "    }\n",
       "</style>\n",
       "<table border=\"1\" class=\"dataframe\">\n",
       "  <thead>\n",
       "    <tr style=\"text-align: right;\">\n",
       "      <th></th>\n",
       "      <th>Postcode</th>\n",
       "      <th>Borough</th>\n",
       "      <th>Neighbourhood</th>\n",
       "      <th>Latitude</th>\n",
       "      <th>Longitude</th>\n",
       "    </tr>\n",
       "  </thead>\n",
       "  <tbody>\n",
       "    <tr>\n",
       "      <th>0</th>\n",
       "      <td>M1B</td>\n",
       "      <td>Scarborough</td>\n",
       "      <td>Rouge, Malvern</td>\n",
       "      <td>43.806686</td>\n",
       "      <td>-79.194353</td>\n",
       "    </tr>\n",
       "    <tr>\n",
       "      <th>1</th>\n",
       "      <td>M1C</td>\n",
       "      <td>Scarborough</td>\n",
       "      <td>Highland Creek, Rouge Hill, Port Union</td>\n",
       "      <td>43.784535</td>\n",
       "      <td>-79.160497</td>\n",
       "    </tr>\n",
       "    <tr>\n",
       "      <th>2</th>\n",
       "      <td>M1E</td>\n",
       "      <td>Scarborough</td>\n",
       "      <td>Guildwood, Morningside, West Hill</td>\n",
       "      <td>43.763573</td>\n",
       "      <td>-79.188711</td>\n",
       "    </tr>\n",
       "    <tr>\n",
       "      <th>3</th>\n",
       "      <td>M1G</td>\n",
       "      <td>Scarborough</td>\n",
       "      <td>Woburn</td>\n",
       "      <td>43.770992</td>\n",
       "      <td>-79.216917</td>\n",
       "    </tr>\n",
       "    <tr>\n",
       "      <th>4</th>\n",
       "      <td>M1H</td>\n",
       "      <td>Scarborough</td>\n",
       "      <td>Cedarbrae</td>\n",
       "      <td>43.773136</td>\n",
       "      <td>-79.239476</td>\n",
       "    </tr>\n",
       "  </tbody>\n",
       "</table>\n",
       "</div>"
      ],
      "text/plain": [
       "  Postcode      Borough                           Neighbourhood   Latitude  \\\n",
       "0      M1B  Scarborough                          Rouge, Malvern  43.806686   \n",
       "1      M1C  Scarborough  Highland Creek, Rouge Hill, Port Union  43.784535   \n",
       "2      M1E  Scarborough       Guildwood, Morningside, West Hill  43.763573   \n",
       "3      M1G  Scarborough                                  Woburn  43.770992   \n",
       "4      M1H  Scarborough                               Cedarbrae  43.773136   \n",
       "\n",
       "   Longitude  \n",
       "0 -79.194353  \n",
       "1 -79.160497  \n",
       "2 -79.188711  \n",
       "3 -79.216917  \n",
       "4 -79.239476  "
      ]
     },
     "execution_count": 23,
     "metadata": {},
     "output_type": "execute_result"
    }
   ],
   "source": [
    "df.head(5)"
   ]
  },
  {
   "cell_type": "code",
   "execution_count": 24,
   "metadata": {},
   "outputs": [
    {
     "name": "stdout",
     "output_type": "stream",
     "text": [
      "Your credentails:\n",
      "CLIENT_ID: KYXXNTKR5QZGYRJMZUGBNAD4LQSX2RMHI4I00DGKZDCOMDRJ\n",
      "CLIENT_SECRET:T0HTARF4BB1FZUMBA2511ECI0CWJE11SB2M03E053RUGMFQZ\n"
     ]
    }
   ],
   "source": [
    "CLIENT_ID = 'KYXXNTKR5QZGYRJMZUGBNAD4LQSX2RMHI4I00DGKZDCOMDRJ' # your Foursquare ID\n",
    "CLIENT_SECRET = 'T0HTARF4BB1FZUMBA2511ECI0CWJE11SB2M03E053RUGMFQZ' # your Foursquare Secret\n",
    "VERSION = '20180605' # Foursquare API version\n",
    "\n",
    "print('Your credentails:')\n",
    "print('CLIENT_ID: ' + CLIENT_ID)\n",
    "print('CLIENT_SECRET:' + CLIENT_SECRET)"
   ]
  },
  {
   "cell_type": "code",
   "execution_count": 80,
   "metadata": {},
   "outputs": [
    {
     "data": {
      "text/html": [
       "<div>\n",
       "<style scoped>\n",
       "    .dataframe tbody tr th:only-of-type {\n",
       "        vertical-align: middle;\n",
       "    }\n",
       "\n",
       "    .dataframe tbody tr th {\n",
       "        vertical-align: top;\n",
       "    }\n",
       "\n",
       "    .dataframe thead th {\n",
       "        text-align: right;\n",
       "    }\n",
       "</style>\n",
       "<table border=\"1\" class=\"dataframe\">\n",
       "  <thead>\n",
       "    <tr style=\"text-align: right;\">\n",
       "      <th></th>\n",
       "      <th>Postcode</th>\n",
       "      <th>Borough</th>\n",
       "      <th>Neighbourhood</th>\n",
       "      <th>Latitude</th>\n",
       "      <th>Longitude</th>\n",
       "    </tr>\n",
       "  </thead>\n",
       "  <tbody>\n",
       "    <tr>\n",
       "      <th>0</th>\n",
       "      <td>M1B</td>\n",
       "      <td>Scarborough</td>\n",
       "      <td>Rouge, Malvern</td>\n",
       "      <td>43.806686</td>\n",
       "      <td>-79.194353</td>\n",
       "    </tr>\n",
       "    <tr>\n",
       "      <th>1</th>\n",
       "      <td>M1C</td>\n",
       "      <td>Scarborough</td>\n",
       "      <td>Highland Creek, Rouge Hill, Port Union</td>\n",
       "      <td>43.784535</td>\n",
       "      <td>-79.160497</td>\n",
       "    </tr>\n",
       "    <tr>\n",
       "      <th>2</th>\n",
       "      <td>M1E</td>\n",
       "      <td>Scarborough</td>\n",
       "      <td>Guildwood, Morningside, West Hill</td>\n",
       "      <td>43.763573</td>\n",
       "      <td>-79.188711</td>\n",
       "    </tr>\n",
       "    <tr>\n",
       "      <th>3</th>\n",
       "      <td>M1G</td>\n",
       "      <td>Scarborough</td>\n",
       "      <td>Woburn</td>\n",
       "      <td>43.770992</td>\n",
       "      <td>-79.216917</td>\n",
       "    </tr>\n",
       "    <tr>\n",
       "      <th>4</th>\n",
       "      <td>M1H</td>\n",
       "      <td>Scarborough</td>\n",
       "      <td>Cedarbrae</td>\n",
       "      <td>43.773136</td>\n",
       "      <td>-79.239476</td>\n",
       "    </tr>\n",
       "  </tbody>\n",
       "</table>\n",
       "</div>"
      ],
      "text/plain": [
       "  Postcode      Borough                           Neighbourhood   Latitude  \\\n",
       "0      M1B  Scarborough                          Rouge, Malvern  43.806686   \n",
       "1      M1C  Scarborough  Highland Creek, Rouge Hill, Port Union  43.784535   \n",
       "2      M1E  Scarborough       Guildwood, Morningside, West Hill  43.763573   \n",
       "3      M1G  Scarborough                                  Woburn  43.770992   \n",
       "4      M1H  Scarborough                               Cedarbrae  43.773136   \n",
       "\n",
       "   Longitude  \n",
       "0 -79.194353  \n",
       "1 -79.160497  \n",
       "2 -79.188711  \n",
       "3 -79.216917  \n",
       "4 -79.239476  "
      ]
     },
     "execution_count": 80,
     "metadata": {},
     "output_type": "execute_result"
    }
   ],
   "source": [
    "tor_data = df.reset_index(drop=True)\n",
    "tor_data.head()"
   ]
  },
  {
   "cell_type": "code",
   "execution_count": 25,
   "metadata": {},
   "outputs": [
    {
     "name": "stdout",
     "output_type": "stream",
     "text": [
      "The geograpical coordinate of Toronto are 43.653963, -79.387207.\n"
     ]
    }
   ],
   "source": [
    "address = 'Toronto, CA'\n",
    "\n",
    "geolocator = Nominatim(user_agent=\"tor_explor\")\n",
    "location = geolocator.geocode(address)\n",
    "latitude = location.latitude\n",
    "longitude = location.longitude\n",
    "print('The geograpical coordinate of Toronto are {}, {}.'.format(latitude, longitude))"
   ]
  },
  {
   "cell_type": "code",
   "execution_count": 37,
   "metadata": {},
   "outputs": [
    {
     "name": "stdout",
     "output_type": "stream",
     "text": [
      "Latitude and longitude values of Rouge, Malvern are 43.806686299999996, -79.19435340000001.\n"
     ]
    }
   ],
   "source": [
    "neighborhood_latitude = df.loc[0, 'Latitude'] # neighborhood latitude value\n",
    "neighborhood_longitude = df.loc[0, 'Longitude'] # neighborhood longitude value\n",
    "\n",
    "neighborhood_name = df.loc[0, 'Neighbourhood'] # neighborhood name\n",
    "\n",
    "print('Latitude and longitude values of {} are {}, {}.'.format(neighborhood_name, \n",
    "                                                               neighborhood_latitude, \n",
    "                                                               neighborhood_longitude))"
   ]
  },
  {
   "cell_type": "markdown",
   "metadata": {},
   "source": [
    "Locate venues in the area"
   ]
  },
  {
   "cell_type": "code",
   "execution_count": 50,
   "metadata": {},
   "outputs": [],
   "source": [
    "LIMIT = 30 # limit of number of venues returned by Foursquare API\n",
    "\n",
    "radius = 700 # define radius\n",
    "\n",
    "url = 'https://api.foursquare.com/v2/venues/explore?&client_id={}&client_secret={}&v={}&ll={},{}&radius={}&limit={}'.format(\n",
    "    CLIENT_ID, \n",
    "    CLIENT_SECRET, \n",
    "    VERSION, \n",
    "    neighborhood_latitude, \n",
    "    neighborhood_longitude, \n",
    "    radius, \n",
    "    LIMIT)\n",
    "url\n",
    "\n",
    "results = requests.get(url).json()"
   ]
  },
  {
   "cell_type": "markdown",
   "metadata": {},
   "source": [
    "Identify the type of venue"
   ]
  },
  {
   "cell_type": "code",
   "execution_count": 51,
   "metadata": {},
   "outputs": [],
   "source": [
    "# function that extracts the category of the venue\n",
    "def get_category_type(row):\n",
    "    try:\n",
    "        categories_list = row['categories']\n",
    "    except:\n",
    "        categories_list = row['venue.categories']\n",
    "        \n",
    "    if len(categories_list) == 0:\n",
    "        return None\n",
    "    else:\n",
    "        return categories_list[0]['name']"
   ]
  },
  {
   "cell_type": "code",
   "execution_count": 52,
   "metadata": {},
   "outputs": [
    {
     "data": {
      "text/html": [
       "<div>\n",
       "<style scoped>\n",
       "    .dataframe tbody tr th:only-of-type {\n",
       "        vertical-align: middle;\n",
       "    }\n",
       "\n",
       "    .dataframe tbody tr th {\n",
       "        vertical-align: top;\n",
       "    }\n",
       "\n",
       "    .dataframe thead th {\n",
       "        text-align: right;\n",
       "    }\n",
       "</style>\n",
       "<table border=\"1\" class=\"dataframe\">\n",
       "  <thead>\n",
       "    <tr style=\"text-align: right;\">\n",
       "      <th></th>\n",
       "      <th>name</th>\n",
       "      <th>categories</th>\n",
       "      <th>lat</th>\n",
       "      <th>lng</th>\n",
       "    </tr>\n",
       "  </thead>\n",
       "  <tbody>\n",
       "    <tr>\n",
       "      <th>0</th>\n",
       "      <td>Images Salon &amp; Spa</td>\n",
       "      <td>Spa</td>\n",
       "      <td>43.802283</td>\n",
       "      <td>-79.198565</td>\n",
       "    </tr>\n",
       "    <tr>\n",
       "      <th>1</th>\n",
       "      <td>Wendy's</td>\n",
       "      <td>Fast Food Restaurant</td>\n",
       "      <td>43.807448</td>\n",
       "      <td>-79.199056</td>\n",
       "    </tr>\n",
       "    <tr>\n",
       "      <th>2</th>\n",
       "      <td>Wendy's</td>\n",
       "      <td>Fast Food Restaurant</td>\n",
       "      <td>43.802008</td>\n",
       "      <td>-79.198080</td>\n",
       "    </tr>\n",
       "    <tr>\n",
       "      <th>3</th>\n",
       "      <td>Tim Hortons</td>\n",
       "      <td>Coffee Shop</td>\n",
       "      <td>43.802000</td>\n",
       "      <td>-79.198169</td>\n",
       "    </tr>\n",
       "    <tr>\n",
       "      <th>4</th>\n",
       "      <td>Lee Valley</td>\n",
       "      <td>Hobby Shop</td>\n",
       "      <td>43.803161</td>\n",
       "      <td>-79.199681</td>\n",
       "    </tr>\n",
       "  </tbody>\n",
       "</table>\n",
       "</div>"
      ],
      "text/plain": [
       "                 name            categories        lat        lng\n",
       "0  Images Salon & Spa                   Spa  43.802283 -79.198565\n",
       "1             Wendy's  Fast Food Restaurant  43.807448 -79.199056\n",
       "2             Wendy's  Fast Food Restaurant  43.802008 -79.198080\n",
       "3         Tim Hortons           Coffee Shop  43.802000 -79.198169\n",
       "4          Lee Valley            Hobby Shop  43.803161 -79.199681"
      ]
     },
     "execution_count": 52,
     "metadata": {},
     "output_type": "execute_result"
    }
   ],
   "source": [
    "venues = results['response']['groups'][0]['items']\n",
    "    \n",
    "nearby_venues = json_normalize(venues) # flatten JSON\n",
    "\n",
    "# filter columns\n",
    "filtered_columns = ['venue.name', 'venue.categories', 'venue.location.lat', 'venue.location.lng']\n",
    "nearby_venues =nearby_venues.loc[:, filtered_columns]\n",
    "\n",
    "# filter the category for each row\n",
    "nearby_venues['venue.categories'] = nearby_venues.apply(get_category_type, axis=1)\n",
    "\n",
    "# clean columns\n",
    "nearby_venues.columns = [col.split(\".\")[-1] for col in nearby_venues.columns]\n",
    "\n",
    "nearby_venues.head()"
   ]
  },
  {
   "cell_type": "code",
   "execution_count": 53,
   "metadata": {},
   "outputs": [
    {
     "name": "stdout",
     "output_type": "stream",
     "text": [
      "8 venues were returned by Foursquare.\n"
     ]
    }
   ],
   "source": [
    "print('{} venues were returned by Foursquare.'.format(nearby_venues.shape[0]))"
   ]
  },
  {
   "cell_type": "code",
   "execution_count": 54,
   "metadata": {},
   "outputs": [],
   "source": [
    "def getNearbyVenues(names, latitudes, longitudes, radius=500):\n",
    "    \n",
    "    venues_list=[]\n",
    "    for name, lat, lng in zip(names, latitudes, longitudes):\n",
    "        print(name)\n",
    "            \n",
    "        # create the API request URL\n",
    "        url = 'https://api.foursquare.com/v2/venues/explore?&client_id={}&client_secret={}&v={}&ll={},{}&radius={}&limit={}'.format(\n",
    "            CLIENT_ID, \n",
    "            CLIENT_SECRET, \n",
    "            VERSION, \n",
    "            lat, \n",
    "            lng, \n",
    "            radius, \n",
    "            LIMIT)\n",
    "            \n",
    "        # make the GET request\n",
    "        results = requests.get(url).json()[\"response\"]['groups'][0]['items']\n",
    "        \n",
    "        # return only relevant information for each nearby venue\n",
    "        venues_list.append([(\n",
    "            name, \n",
    "            lat, \n",
    "            lng, \n",
    "            v['venue']['name'], \n",
    "            v['venue']['location']['lat'], \n",
    "            v['venue']['location']['lng'],  \n",
    "            v['venue']['categories'][0]['name']) for v in results])\n",
    "\n",
    "    nearby_venues = pd.DataFrame([item for venue_list in venues_list for item in venue_list])\n",
    "    nearby_venues.columns = ['Neighborhood', \n",
    "                  'Neighborhood Latitude', \n",
    "                  'Neighborhood Longitude', \n",
    "                  'Venue', \n",
    "                  'Venue Latitude', \n",
    "                  'Venue Longitude', \n",
    "                  'Venue Category']\n",
    "    \n",
    "    return(nearby_venues)"
   ]
  },
  {
   "cell_type": "markdown",
   "metadata": {},
   "source": [
    "Identify venues for all neighbourhoods in area"
   ]
  },
  {
   "cell_type": "code",
   "execution_count": 59,
   "metadata": {},
   "outputs": [],
   "source": [
    "# one hot encoding\n",
    "tor_onehot = pd.get_dummies(tor_venues[['Venue Category']], prefix=\"\", prefix_sep=\"\")\n",
    "\n",
    "# add neighborhood column back to dataframe\n",
    "tor_onehot['Neighborhood'] = tor_venues['Neighborhood'] \n",
    "\n",
    "# move neighborhood column to the first column\n",
    "fixed_columns = [tor_onehot.columns[-1]] + list(tor_onehot.columns[:-1])\n",
    "tor_onehot = tor_onehot[fixed_columns]"
   ]
  },
  {
   "cell_type": "code",
   "execution_count": 62,
   "metadata": {},
   "outputs": [],
   "source": [
    "tor_grouped = tor_onehot.groupby('Neighborhood').mean().reset_index()"
   ]
  },
  {
   "cell_type": "code",
   "execution_count": 66,
   "metadata": {},
   "outputs": [],
   "source": [
    "def return_most_common_venues(row, num_top_venues):\n",
    "    row_categories = row.iloc[1:]\n",
    "    row_categories_sorted = row_categories.sort_values(ascending=False)\n",
    "    \n",
    "    return row_categories_sorted.index.values[0:num_top_venues]"
   ]
  },
  {
   "cell_type": "code",
   "execution_count": 69,
   "metadata": {},
   "outputs": [
    {
     "data": {
      "text/html": [
       "<div>\n",
       "<style scoped>\n",
       "    .dataframe tbody tr th:only-of-type {\n",
       "        vertical-align: middle;\n",
       "    }\n",
       "\n",
       "    .dataframe tbody tr th {\n",
       "        vertical-align: top;\n",
       "    }\n",
       "\n",
       "    .dataframe thead th {\n",
       "        text-align: right;\n",
       "    }\n",
       "</style>\n",
       "<table border=\"1\" class=\"dataframe\">\n",
       "  <thead>\n",
       "    <tr style=\"text-align: right;\">\n",
       "      <th></th>\n",
       "      <th>Neighborhood</th>\n",
       "      <th>1st Most Common Venue</th>\n",
       "      <th>2nd Most Common Venue</th>\n",
       "      <th>3rd Most Common Venue</th>\n",
       "      <th>4th Most Common Venue</th>\n",
       "      <th>5th Most Common Venue</th>\n",
       "      <th>6th Most Common Venue</th>\n",
       "      <th>7th Most Common Venue</th>\n",
       "      <th>8th Most Common Venue</th>\n",
       "      <th>9th Most Common Venue</th>\n",
       "      <th>10th Most Common Venue</th>\n",
       "    </tr>\n",
       "  </thead>\n",
       "  <tbody>\n",
       "    <tr>\n",
       "      <th>0</th>\n",
       "      <td>Adelaide, King, Richmond</td>\n",
       "      <td>Steakhouse</td>\n",
       "      <td>Pizza Place</td>\n",
       "      <td>Asian Restaurant</td>\n",
       "      <td>Hotel</td>\n",
       "      <td>Café</td>\n",
       "      <td>Bar</td>\n",
       "      <td>Speakeasy</td>\n",
       "      <td>Smoke Shop</td>\n",
       "      <td>Seafood Restaurant</td>\n",
       "      <td>Plaza</td>\n",
       "    </tr>\n",
       "    <tr>\n",
       "      <th>1</th>\n",
       "      <td>Agincourt</td>\n",
       "      <td>Lounge</td>\n",
       "      <td>Chinese Restaurant</td>\n",
       "      <td>Breakfast Spot</td>\n",
       "      <td>Sandwich Place</td>\n",
       "      <td>Curling Ice</td>\n",
       "      <td>Dumpling Restaurant</td>\n",
       "      <td>Drugstore</td>\n",
       "      <td>Dog Run</td>\n",
       "      <td>Discount Store</td>\n",
       "      <td>Diner</td>\n",
       "    </tr>\n",
       "    <tr>\n",
       "      <th>2</th>\n",
       "      <td>Agincourt North, L'Amoreaux East, Milliken, St...</td>\n",
       "      <td>Asian Restaurant</td>\n",
       "      <td>Park</td>\n",
       "      <td>Playground</td>\n",
       "      <td>Dessert Shop</td>\n",
       "      <td>Cupcake Shop</td>\n",
       "      <td>Curling Ice</td>\n",
       "      <td>Dance Studio</td>\n",
       "      <td>Deli / Bodega</td>\n",
       "      <td>Department Store</td>\n",
       "      <td>Women's Store</td>\n",
       "    </tr>\n",
       "    <tr>\n",
       "      <th>3</th>\n",
       "      <td>Albion Gardens, Beaumond Heights, Humbergate, ...</td>\n",
       "      <td>Grocery Store</td>\n",
       "      <td>Beer Store</td>\n",
       "      <td>Fried Chicken Joint</td>\n",
       "      <td>Pharmacy</td>\n",
       "      <td>Pizza Place</td>\n",
       "      <td>Sandwich Place</td>\n",
       "      <td>Liquor Store</td>\n",
       "      <td>Fast Food Restaurant</td>\n",
       "      <td>Coffee Shop</td>\n",
       "      <td>Video Store</td>\n",
       "    </tr>\n",
       "    <tr>\n",
       "      <th>4</th>\n",
       "      <td>Alderwood, Long Branch</td>\n",
       "      <td>Pizza Place</td>\n",
       "      <td>Pool</td>\n",
       "      <td>Coffee Shop</td>\n",
       "      <td>Skating Rink</td>\n",
       "      <td>Pharmacy</td>\n",
       "      <td>Gym</td>\n",
       "      <td>Pub</td>\n",
       "      <td>Dance Studio</td>\n",
       "      <td>Sandwich Place</td>\n",
       "      <td>Women's Store</td>\n",
       "    </tr>\n",
       "  </tbody>\n",
       "</table>\n",
       "</div>"
      ],
      "text/plain": [
       "                                        Neighborhood 1st Most Common Venue  \\\n",
       "0                           Adelaide, King, Richmond            Steakhouse   \n",
       "1                                          Agincourt                Lounge   \n",
       "2  Agincourt North, L'Amoreaux East, Milliken, St...      Asian Restaurant   \n",
       "3  Albion Gardens, Beaumond Heights, Humbergate, ...         Grocery Store   \n",
       "4                             Alderwood, Long Branch           Pizza Place   \n",
       "\n",
       "  2nd Most Common Venue 3rd Most Common Venue 4th Most Common Venue  \\\n",
       "0           Pizza Place      Asian Restaurant                 Hotel   \n",
       "1    Chinese Restaurant        Breakfast Spot        Sandwich Place   \n",
       "2                  Park            Playground          Dessert Shop   \n",
       "3            Beer Store   Fried Chicken Joint              Pharmacy   \n",
       "4                  Pool           Coffee Shop          Skating Rink   \n",
       "\n",
       "  5th Most Common Venue 6th Most Common Venue 7th Most Common Venue  \\\n",
       "0                  Café                   Bar             Speakeasy   \n",
       "1           Curling Ice   Dumpling Restaurant             Drugstore   \n",
       "2          Cupcake Shop           Curling Ice          Dance Studio   \n",
       "3           Pizza Place        Sandwich Place          Liquor Store   \n",
       "4              Pharmacy                   Gym                   Pub   \n",
       "\n",
       "  8th Most Common Venue 9th Most Common Venue 10th Most Common Venue  \n",
       "0            Smoke Shop    Seafood Restaurant                  Plaza  \n",
       "1               Dog Run        Discount Store                  Diner  \n",
       "2         Deli / Bodega      Department Store          Women's Store  \n",
       "3  Fast Food Restaurant           Coffee Shop            Video Store  \n",
       "4          Dance Studio        Sandwich Place          Women's Store  "
      ]
     },
     "execution_count": 69,
     "metadata": {},
     "output_type": "execute_result"
    }
   ],
   "source": [
    "num_top_venues = 10\n",
    "\n",
    "indicators = ['st', 'nd', 'rd']\n",
    "\n",
    "# create columns according to number of top venues\n",
    "columns = ['Neighborhood']\n",
    "for ind in np.arange(num_top_venues):\n",
    "    try:\n",
    "        columns.append('{}{} Most Common Venue'.format(ind+1, indicators[ind]))\n",
    "    except:\n",
    "        columns.append('{}th Most Common Venue'.format(ind+1))\n",
    "\n",
    "# create a new dataframe\n",
    "neighborhoods_venues_sorted = pd.DataFrame(columns=columns)\n",
    "neighborhoods_venues_sorted['Neighborhood'] = tor_grouped['Neighborhood']\n",
    "\n",
    "for ind in np.arange(tor_grouped.shape[0]):\n",
    "    neighborhoods_venues_sorted.iloc[ind, 1:] = return_most_common_venues(tor_grouped.iloc[ind, :], num_top_venues)\n",
    "\n",
    "neighborhoods_venues_sorted.head()"
   ]
  },
  {
   "cell_type": "code",
   "execution_count": 70,
   "metadata": {},
   "outputs": [
    {
     "data": {
      "text/plain": [
       "array([0, 0, 3, 0, 0, 0, 0, 0, 0, 0], dtype=int32)"
      ]
     },
     "execution_count": 70,
     "metadata": {},
     "output_type": "execute_result"
    }
   ],
   "source": [
    "# set number of clusters\n",
    "kclusters = 5\n",
    "\n",
    "tor_grouped_clustering = tor_grouped.drop('Neighborhood', 1)\n",
    "\n",
    "# run k-means clustering\n",
    "kmeans = KMeans(n_clusters=kclusters, random_state=0).fit(tor_grouped_clustering)\n",
    "\n",
    "# check cluster labels generated for each row in the dataframe\n",
    "kmeans.labels_[0:10] "
   ]
  },
  {
   "cell_type": "markdown",
   "metadata": {},
   "source": [
    "Separate into 5 clusters according to venues"
   ]
  },
  {
   "cell_type": "code",
   "execution_count": 113,
   "metadata": {},
   "outputs": [
    {
     "data": {
      "text/html": [
       "<div>\n",
       "<style scoped>\n",
       "    .dataframe tbody tr th:only-of-type {\n",
       "        vertical-align: middle;\n",
       "    }\n",
       "\n",
       "    .dataframe tbody tr th {\n",
       "        vertical-align: top;\n",
       "    }\n",
       "\n",
       "    .dataframe thead th {\n",
       "        text-align: right;\n",
       "    }\n",
       "</style>\n",
       "<table border=\"1\" class=\"dataframe\">\n",
       "  <thead>\n",
       "    <tr style=\"text-align: right;\">\n",
       "      <th></th>\n",
       "      <th>Postcode</th>\n",
       "      <th>Borough</th>\n",
       "      <th>Neighbourhood</th>\n",
       "      <th>Latitude</th>\n",
       "      <th>Longitude</th>\n",
       "      <th>Cluster Labels</th>\n",
       "      <th>1st Most Common Venue</th>\n",
       "      <th>2nd Most Common Venue</th>\n",
       "      <th>3rd Most Common Venue</th>\n",
       "      <th>4th Most Common Venue</th>\n",
       "      <th>5th Most Common Venue</th>\n",
       "      <th>6th Most Common Venue</th>\n",
       "      <th>7th Most Common Venue</th>\n",
       "      <th>8th Most Common Venue</th>\n",
       "      <th>9th Most Common Venue</th>\n",
       "      <th>10th Most Common Venue</th>\n",
       "    </tr>\n",
       "  </thead>\n",
       "  <tbody>\n",
       "    <tr>\n",
       "      <th>0</th>\n",
       "      <td>M1B</td>\n",
       "      <td>Scarborough</td>\n",
       "      <td>Rouge, Malvern</td>\n",
       "      <td>43.806686</td>\n",
       "      <td>-79.194353</td>\n",
       "      <td>0.0</td>\n",
       "      <td>Fast Food Restaurant</td>\n",
       "      <td>Print Shop</td>\n",
       "      <td>Women's Store</td>\n",
       "      <td>Cupcake Shop</td>\n",
       "      <td>Dumpling Restaurant</td>\n",
       "      <td>Drugstore</td>\n",
       "      <td>Dog Run</td>\n",
       "      <td>Discount Store</td>\n",
       "      <td>Diner</td>\n",
       "      <td>Dim Sum Restaurant</td>\n",
       "    </tr>\n",
       "    <tr>\n",
       "      <th>1</th>\n",
       "      <td>M1C</td>\n",
       "      <td>Scarborough</td>\n",
       "      <td>Highland Creek, Rouge Hill, Port Union</td>\n",
       "      <td>43.784535</td>\n",
       "      <td>-79.160497</td>\n",
       "      <td>1.0</td>\n",
       "      <td>Bar</td>\n",
       "      <td>Construction &amp; Landscaping</td>\n",
       "      <td>Women's Store</td>\n",
       "      <td>Curling Ice</td>\n",
       "      <td>Eastern European Restaurant</td>\n",
       "      <td>Dumpling Restaurant</td>\n",
       "      <td>Drugstore</td>\n",
       "      <td>Dog Run</td>\n",
       "      <td>Discount Store</td>\n",
       "      <td>Diner</td>\n",
       "    </tr>\n",
       "    <tr>\n",
       "      <th>2</th>\n",
       "      <td>M1E</td>\n",
       "      <td>Scarborough</td>\n",
       "      <td>Guildwood, Morningside, West Hill</td>\n",
       "      <td>43.763573</td>\n",
       "      <td>-79.188711</td>\n",
       "      <td>0.0</td>\n",
       "      <td>Breakfast Spot</td>\n",
       "      <td>Pizza Place</td>\n",
       "      <td>Tech Startup</td>\n",
       "      <td>Mexican Restaurant</td>\n",
       "      <td>Medical Center</td>\n",
       "      <td>Intersection</td>\n",
       "      <td>Rental Car Location</td>\n",
       "      <td>Electronics Store</td>\n",
       "      <td>Spa</td>\n",
       "      <td>Dim Sum Restaurant</td>\n",
       "    </tr>\n",
       "    <tr>\n",
       "      <th>3</th>\n",
       "      <td>M1G</td>\n",
       "      <td>Scarborough</td>\n",
       "      <td>Woburn</td>\n",
       "      <td>43.770992</td>\n",
       "      <td>-79.216917</td>\n",
       "      <td>0.0</td>\n",
       "      <td>Coffee Shop</td>\n",
       "      <td>Korean Restaurant</td>\n",
       "      <td>Convenience Store</td>\n",
       "      <td>Curling Ice</td>\n",
       "      <td>Eastern European Restaurant</td>\n",
       "      <td>Dumpling Restaurant</td>\n",
       "      <td>Drugstore</td>\n",
       "      <td>Dog Run</td>\n",
       "      <td>Discount Store</td>\n",
       "      <td>Diner</td>\n",
       "    </tr>\n",
       "    <tr>\n",
       "      <th>4</th>\n",
       "      <td>M1H</td>\n",
       "      <td>Scarborough</td>\n",
       "      <td>Cedarbrae</td>\n",
       "      <td>43.773136</td>\n",
       "      <td>-79.239476</td>\n",
       "      <td>0.0</td>\n",
       "      <td>Athletics &amp; Sports</td>\n",
       "      <td>Caribbean Restaurant</td>\n",
       "      <td>Lounge</td>\n",
       "      <td>Hakka Restaurant</td>\n",
       "      <td>Thai Restaurant</td>\n",
       "      <td>Bakery</td>\n",
       "      <td>Fried Chicken Joint</td>\n",
       "      <td>Bank</td>\n",
       "      <td>Deli / Bodega</td>\n",
       "      <td>Department Store</td>\n",
       "    </tr>\n",
       "  </tbody>\n",
       "</table>\n",
       "</div>"
      ],
      "text/plain": [
       "  Postcode      Borough                           Neighbourhood   Latitude  \\\n",
       "0      M1B  Scarborough                          Rouge, Malvern  43.806686   \n",
       "1      M1C  Scarborough  Highland Creek, Rouge Hill, Port Union  43.784535   \n",
       "2      M1E  Scarborough       Guildwood, Morningside, West Hill  43.763573   \n",
       "3      M1G  Scarborough                                  Woburn  43.770992   \n",
       "4      M1H  Scarborough                               Cedarbrae  43.773136   \n",
       "\n",
       "   Longitude  Cluster Labels 1st Most Common Venue  \\\n",
       "0 -79.194353             0.0  Fast Food Restaurant   \n",
       "1 -79.160497             1.0                   Bar   \n",
       "2 -79.188711             0.0        Breakfast Spot   \n",
       "3 -79.216917             0.0           Coffee Shop   \n",
       "4 -79.239476             0.0    Athletics & Sports   \n",
       "\n",
       "        2nd Most Common Venue 3rd Most Common Venue 4th Most Common Venue  \\\n",
       "0                  Print Shop         Women's Store          Cupcake Shop   \n",
       "1  Construction & Landscaping         Women's Store           Curling Ice   \n",
       "2                 Pizza Place          Tech Startup    Mexican Restaurant   \n",
       "3           Korean Restaurant     Convenience Store           Curling Ice   \n",
       "4        Caribbean Restaurant                Lounge      Hakka Restaurant   \n",
       "\n",
       "         5th Most Common Venue 6th Most Common Venue 7th Most Common Venue  \\\n",
       "0          Dumpling Restaurant             Drugstore               Dog Run   \n",
       "1  Eastern European Restaurant   Dumpling Restaurant             Drugstore   \n",
       "2               Medical Center          Intersection   Rental Car Location   \n",
       "3  Eastern European Restaurant   Dumpling Restaurant             Drugstore   \n",
       "4              Thai Restaurant                Bakery   Fried Chicken Joint   \n",
       "\n",
       "  8th Most Common Venue 9th Most Common Venue 10th Most Common Venue  \n",
       "0        Discount Store                 Diner     Dim Sum Restaurant  \n",
       "1               Dog Run        Discount Store                  Diner  \n",
       "2     Electronics Store                   Spa     Dim Sum Restaurant  \n",
       "3               Dog Run        Discount Store                  Diner  \n",
       "4                  Bank         Deli / Bodega       Department Store  "
      ]
     },
     "execution_count": 113,
     "metadata": {},
     "output_type": "execute_result"
    }
   ],
   "source": [
    "# add clustering labels\n",
    "\n",
    "tor_merged = tor_data\n",
    "\n",
    "# merge toronto_grouped with toronto_data to add latitude/longitude for each neighborhood\n",
    "tor_merged = tor_merged.join(neighborhoods_venues_sorted.set_index('Neighborhood'), on='Neighbourhood')\n",
    "tor_merged.head()"
   ]
  },
  {
   "cell_type": "code",
   "execution_count": 112,
   "metadata": {},
   "outputs": [],
   "source": [
    "tor_merged['Cluster Labels'] = tor_merged['Cluster Labels'].fillna(0.0).astype(int)"
   ]
  },
  {
   "cell_type": "code",
   "execution_count": 117,
   "metadata": {},
   "outputs": [
    {
     "data": {
      "text/html": [
       "<div style=\"width:100%;\"><div style=\"position:relative;width:100%;height:0;padding-bottom:60%;\"><iframe src=\"data:text/html;charset=utf-8;base64,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\" style=\"position:absolute;width:100%;height:100%;left:0;top:0;border:none !important;\" allowfullscreen webkitallowfullscreen mozallowfullscreen></iframe></div></div>"
      ],
      "text/plain": [
       "<folium.folium.Map at 0x7fc0ffa36e48>"
      ]
     },
     "execution_count": 117,
     "metadata": {},
     "output_type": "execute_result"
    }
   ],
   "source": [
    "# create map\n",
    "map_clusters = folium.Map(location=[latitude, longitude], zoom_start=11)\n",
    "\n",
    "# set color scheme for the clusters\n",
    "x = np.arange(kclusters)\n",
    "ys = [i + x + (i*x)**2 for i in range(kclusters)]\n",
    "colors_array = cm.rainbow(np.linspace(0, 1, len(ys)))\n",
    "rainbow = [colors.rgb2hex(i) for i in colors_array]\n",
    "\n",
    "# add markers to the map\n",
    "markers_colors = []\n",
    "for lat, lon, poi, cluster in zip(tor_merged['Latitude'], tor_merged['Longitude'], tor_merged['Neighbourhood'], tor_merged['Cluster Labels']):\n",
    "    label = folium.Popup(str(poi) + ' Cluster ' + str(cluster), parse_html=True)\n",
    "    folium.CircleMarker(\n",
    "        [lat, lon],\n",
    "        radius=5,\n",
    "        popup=label,\n",
    "        fill=True,\n",
    "        fill_opacity=0.7).add_to(map_clusters)\n",
    "       \n",
    "map_clusters"
   ]
  },
  {
   "cell_type": "markdown",
   "metadata": {},
   "source": [
    "Print out map with clusters"
   ]
  },
  {
   "cell_type": "code",
   "execution_count": null,
   "metadata": {},
   "outputs": [],
   "source": []
  }
 ],
 "metadata": {
  "kernelspec": {
   "display_name": "Python 3",
   "language": "python",
   "name": "python3"
  },
  "language_info": {
   "codemirror_mode": {
    "name": "ipython",
    "version": 3
   },
   "file_extension": ".py",
   "mimetype": "text/x-python",
   "name": "python",
   "nbconvert_exporter": "python",
   "pygments_lexer": "ipython3",
   "version": "3.6.8"
  }
 },
 "nbformat": 4,
 "nbformat_minor": 2
}
